{
 "cells": [
  {
   "cell_type": "code",
   "execution_count": null,
   "id": "3b066aa3",
   "metadata": {},
   "outputs": [],
   "source": [
    "import sys\n",
    "sys.path.append('src/')\n",
    "\n",
    "import numpy as np\n",
    "import pandas as pd\n",
    "from datagenerator import data_generator\n",
    "from modelapi import fetch_response\n",
    "\n",
    "pd.set_option('display.max_columns',50)\n",
    "pd.set_option('display.max_rows',100)\n",
    "pd.set_option('display.width', 500)\n"
   ]
  },
  {
   "cell_type": "code",
   "execution_count": null,
   "id": "a743f908",
   "metadata": {},
   "outputs": [],
   "source": [
    "config_file = \"data/datagen-config.json\"\n",
    "num_rows = 4000\n",
    "num_runs = 10\n",
    "base_df = pd.DataFrame()\n",
    "\n",
    "for i in range(num_runs):\n",
    "    df = data_generator(config_file, num_rows)\n",
    "    base_df = pd.concat([base_df, df])\n",
    "    \n",
    "base_df.reset_index(inplace=True)\n",
    "base_df[\"Applicant ID\"] = base_df.index+1\n",
    "app_jobref_df = base_df[['Applicant ID', 'jobref_id']].drop_duplicates()\n",
    "base_df.drop(columns=[\"index\",\"jobref_id\"],inplace=True)\n",
    "base_df  = base_df[[\"Applicant ID\",\"School Name\",\"GPA\",\"Degree\",\"Location\",\"Gender\",\"Veteran status\",\n",
    "                   \"Work authorization\",\"Disability\",\"Ethnicity\",\"Role 1\",\"Start 1\",\"End 1\",\"Role 2\",\n",
    "                   \"Start 2\",\"End 2\",\"Role 3\",\"Start 3\",\"End 3\"]]\n",
    "\n",
    "base_df.head()"
   ]
  },
  {
   "cell_type": "code",
   "execution_count": null,
   "id": "a614904d",
   "metadata": {},
   "outputs": [],
   "source": [
    "# Resume scorer results\n",
    "rs_url = \"https://jennjwang.pythonanywhere.com\"\n",
    "rs_df = fetch_response(url=rs_url, data=base_df, max_sz=4000, verbose=0)\n",
    "rs_df['applicant_id'] = rs_df['applicant_id'].astype(int)\n",
    "rs_df.head()"
   ]
  },
  {
   "cell_type": "code",
   "execution_count": null,
   "id": "3509d36b",
   "metadata": {},
   "outputs": [],
   "source": [
    "eval_df = pd.merge(left=base_df, right=rs_df, left_on=['Applicant ID'], right_on=['applicant_id'])\n",
    "eval_df.drop(columns=['applicant_id'],inplace=True)\n",
    "eval_df.rename(columns={'score':'Resume score'},inplace=True)\n",
    "eval_df.head()"
   ]
  },
  {
   "cell_type": "code",
   "execution_count": null,
   "id": "317dbf9c",
   "metadata": {},
   "outputs": [],
   "source": [
    "ce_url = \"https://heonlee.pythonanywhere.com\"\n",
    "ce_df = fetch_response(url=ce_url, data=eval_df, max_sz=4000, verbose=0)\n",
    "ce_df['applicant_id'] = ce_df['applicant_id'].astype(int)\n",
    "ce_df.head()"
   ]
  },
  {
   "cell_type": "code",
   "execution_count": null,
   "id": "d70e71de",
   "metadata": {},
   "outputs": [],
   "source": [
    "final_df = pd.merge(left=eval_df, right=ce_df, left_on=['Applicant ID'], \n",
    "                    right_on=['applicant_id'])\n",
    "final_df.drop(columns=['applicant_id'],inplace=True)\n",
    "final_df.columns = ['applicant_id', 'school_name', 'gpa', 'degree', 'location', 'gender', 'veteran_status', \n",
    "                    'work_auth', 'disability', 'ethnicity', 'role1', 'start1', 'end1', 'role2', 'start2', \n",
    "                    'end2', 'role3', 'start3', 'end3', 'resume_score', 'prediction']\n",
    "final_df = pd.merge(left=final_df, right=app_jobref_df, left_on=['applicant_id'], right_on=['Applicant ID'])\n",
    "final_df.drop(columns=['Applicant ID'], inplace=True)\n",
    "\n",
    "temp1 = final_df.groupby(['school_name','gpa','degree','location','gender','veteran_status','work_auth',\n",
    "                              'disability','ethnicity','jobref_id'])['applicant_id'].transform('min')\n",
    "temp2 = final_df.groupby(['school_name','gpa','degree','location','gender','veteran_status','work_auth',\n",
    "                              'disability','ethnicity','jobref_id'])['applicant_id'].transform('max')\n",
    "\n",
    "final_df['group_idx'] = temp1.astype(int).astype(str)+'-'+temp2.astype(int).astype(str)\n",
    "final_df.to_csv('audit-data.csv', index=False, encoding='utf8')\n",
    "final_df.head()"
   ]
  }
 ],
 "metadata": {
  "kernelspec": {
   "display_name": "Python 3 (ipykernel)",
   "language": "python",
   "name": "python3"
  },
  "language_info": {
   "codemirror_mode": {
    "name": "ipython",
    "version": 3
   },
   "file_extension": ".py",
   "mimetype": "text/x-python",
   "name": "python",
   "nbconvert_exporter": "python",
   "pygments_lexer": "ipython3",
   "version": "3.10.12"
  }
 },
 "nbformat": 4,
 "nbformat_minor": 5
}
