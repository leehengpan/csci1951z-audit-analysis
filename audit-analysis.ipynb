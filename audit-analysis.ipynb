{
 "cells": [
  {
   "cell_type": "code",
   "execution_count": null,
   "id": "e1eac332",
   "metadata": {},
   "outputs": [],
   "source": [
    "import pandas as pd\n",
    "import numpy as np\n",
    "import matplotlib.pyplot as plt\n",
    "from matplotlib.ticker import PercentFormatter"
   ]
  },
  {
   "cell_type": "code",
   "execution_count": null,
   "id": "1c71b46c",
   "metadata": {},
   "outputs": [],
   "source": [
    "# import audit-data.csv\n",
    "df = pd.read_csv('audit-data.csv', keep_default_na=False)\n",
    "df"
   ]
  },
  {
   "cell_type": "code",
   "execution_count": null,
   "id": "bc573f62",
   "metadata": {},
   "outputs": [],
   "source": [
    "# show the distribution of degree in a table\n",
    "df.groupby(['degree']).size()"
   ]
  },
  {
   "cell_type": "code",
   "execution_count": null,
   "id": "e38c2cec",
   "metadata": {},
   "outputs": [],
   "source": [
    "# create bar plot for degree in percentage\n",
    "degree = ['Bachelors', 'Master\\'s', 'PhD']\n",
    "\n",
    "temp_df_degree = df.groupby(by='degree').size()/df.groupby(by='degree').size().sum()\n",
    "temp_df_degree.plot(kind='bar')\n",
    "\n",
    "# rotate the x-axis labels\n",
    "plt.xticks(rotation=0)\n",
    "\n",
    "# add title and labels\n",
    "plt.title('Distribution of Degree')\n",
    "plt.xlabel('Degree')\n",
    "plt.ylabel('Percentage of Samples')\n",
    "\n",
    "plt.gca().yaxis.set_major_formatter(PercentFormatter(1))\n",
    "\n",
    "# save as png\n",
    "plt.savefig('degree.png', dpi=300)\n"
   ]
  },
  {
   "cell_type": "code",
   "execution_count": null,
   "id": "a0268ce4",
   "metadata": {},
   "outputs": [],
   "source": [
    "df.groupby(['disability']).size()"
   ]
  },
  {
   "cell_type": "code",
   "execution_count": null,
   "id": "42032ce4",
   "metadata": {},
   "outputs": [],
   "source": [
    "df.groupby(['work_auth']).size()"
   ]
  },
  {
   "cell_type": "code",
   "execution_count": null,
   "id": "a536bab9",
   "metadata": {},
   "outputs": [],
   "source": [
    "# show the distribution of ethnicity and gender and do not show the column names\n",
    "df.groupby(['gender', 'ethinicity']).size().unstack()"
   ]
  },
  {
   "cell_type": "code",
   "execution_count": null,
   "id": "e6a98bdf",
   "metadata": {},
   "outputs": [],
   "source": [
    "# show the distribution of GPA density in a histogram, remove grid and add n_bins\n",
    "plt.hist(df['gpa'], weights=np.ones(len(df['gpa'])) / len(df['gpa']), color='tab:orange', alpha=0.7, edgecolor='tab:orange', bins=20)\n",
    "\n",
    "# plt.hist(kind='hist', density=True, grid=False, bins=11)\n",
    "\n",
    "# # add title and labels\n",
    "plt.title('Distribution of GPA')\n",
    "plt.xlabel('GPA')\n",
    "plt.ylabel('Percentage of Samples')\n",
    "plt.gca().yaxis.set_major_formatter(PercentFormatter(1))\n",
    "\n",
    "# # save as png\n",
    "# plt.savefig('gpa.png', dpi=300)"
   ]
  },
  {
   "cell_type": "code",
   "execution_count": null,
   "id": "c5975916",
   "metadata": {},
   "outputs": [],
   "source": [
    "# show the distribution of mean resume score for each group_idx in a histogram, remove grid and add n_bins\n",
    "n_bins = 20\n",
    "\n",
    "plt.hist(df[df['gender']=='M'].groupby(['group_idx'])['resume_score'].mean(), n_bins, alpha=0.5, label='Male')\n",
    "plt.hist(df[df['gender']=='F'].groupby(['group_idx'])['resume_score'].mean(), n_bins, alpha=0.5, label='Female')\n",
    "plt.hist(df[df['gender']=='N/A'].groupby(['group_idx'])['resume_score'].mean(), n_bins, alpha=0.5, label='N/A')\n",
    "\n",
    "plt.legend(loc='upper right')\n",
    "plt.show()\n"
   ]
  }
 ],
 "metadata": {
  "kernelspec": {
   "display_name": "Python 3 (ipykernel)",
   "language": "python",
   "name": "python3"
  },
  "language_info": {
   "codemirror_mode": {
    "name": "ipython",
    "version": 3
   },
   "file_extension": ".py",
   "mimetype": "text/x-python",
   "name": "python",
   "nbconvert_exporter": "python",
   "pygments_lexer": "ipython3",
   "version": "3.10.12"
  }
 },
 "nbformat": 4,
 "nbformat_minor": 5
}
