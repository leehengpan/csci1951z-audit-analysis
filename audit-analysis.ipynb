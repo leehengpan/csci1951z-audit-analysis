{
 "cells": [
  {
   "cell_type": "markdown",
   "id": "361350db",
   "metadata": {},
   "source": [
    "## Import and setup of custom helper functions\n",
    "\n",
    "Just a quick step to import libraries and define convenience functions that simplify data manipulation, renaming columns, etc."
   ]
  },
  {
   "cell_type": "code",
   "execution_count": null,
   "id": "2a9a2af5",
   "metadata": {},
   "outputs": [],
   "source": [
    "import pandas as pd\n",
    "import numpy as np\n",
    "import matplotlib.pyplot as plt\n",
    "from matplotlib.ticker import PercentFormatter \n",
    "import datetime as dt\n",
    "pd.set_option('display.max_columns',50)\n",
    "pd.set_option('display.max_rows',100)\n",
    "pd.set_option('display.width', 500)\n",
    "\n",
    "\n",
    "def string_to_date(datestr, dt_format=\"%m/%y\"):\n",
    "    return dt.datetime.strptime(datestr, dt_format)\n",
    "\n",
    "def date_diff(start_date, end_date):\n",
    "    return (end_date-start_date).days\n",
    "\n",
    "def redo_colnames(colnames, level=0):\n",
    "    newnames = []\n",
    "    if isinstance(colnames, pd.MultiIndex):\n",
    "        for col in colnames:\n",
    "            newnames.append(col[level].replace('_',' ').capitalize())\n",
    "    else:\n",
    "        for col in colnames:\n",
    "            newnames.append(col.repalce('_',' ').capitalize())\n",
    "    return newnames\n",
    "\n",
    "def percentile(n):\n",
    "    def percentile_(x):\n",
    "        return np.percentile(x, n)\n",
    "    percentile_.__name__ = 'p%s' % n\n",
    "    return percentile_\n",
    "\n",
    "def spd(sensitive_attribute, dataset, predicted_labels, majority_class, minority_class):\n",
    "    # Compute the spd value\n",
    "    \n",
    "    majority_predicted = predicted_labels[dataset[sensitive_attribute] == majority_class]\n",
    "    minority_predicted = predicted_labels[dataset[sensitive_attribute] == minority_class]\n",
    "    spd_val = minority_predicted.mean() - majority_predicted.mean()\n",
    "\n",
    "    return spd_val"
   ]
  },
  {
   "cell_type": "markdown",
   "id": "3c1e02a6",
   "metadata": {},
   "source": [
    "## EDA & Data Distribution\n",
    "\n",
    "To start off, we present some basic plots and EDA that provide insights on the distribution of the features in the dataset. Along the way we also define functions that manipulate applicant information to simplify the analysis.\n",
    "\n",
    "A quick note to bear: we found it advantageous to generate identical samples multiple times to gauge the variability in the models\\' outputs. With such a strategy we repeated each sample 10 times, for a set of 4000 distinct applicants, totaling 40000 rows of data. In this synthetic dataset each feature was drawn independently from a random distribution."
   ]
  },
  {
   "cell_type": "code",
   "execution_count": null,
   "id": "bda07fc2",
   "metadata": {},
   "outputs": [],
   "source": [
    "df = pd.read_csv('data/audit-data.csv', keep_default_na=False)\n",
    "df.head()"
   ]
  },
  {
   "cell_type": "code",
   "execution_count": null,
   "id": "3de58482",
   "metadata": {},
   "outputs": [],
   "source": [
    "def datestr_diff(start_str, end_str):\n",
    "    if pd.isna(start_str) or start_str==\"N/A\":\n",
    "        return 0\n",
    "    else:\n",
    "        start_dt = string_to_date(start_str)\n",
    "        \n",
    "    if pd.isna(end_str) or end_str==\"N/A\":\n",
    "        end_dt = dt.datetime.today()\n",
    "    else:\n",
    "        end_dt = string_to_date(end_str)\n",
    "    \n",
    "    exp = date_diff(start_dt, end_dt)\n",
    "    return exp\n",
    "\n",
    "vec_datestr_diff = np.vectorize(datestr_diff)\n",
    "\n",
    "\n",
    "df['role1_exp'] = vec_datestr_diff(df['start1'], df['end1'])\n",
    "df['role2_exp'] = vec_datestr_diff(df['start2'], df['end2'])\n",
    "df['role3_exp'] = vec_datestr_diff(df['start3'], df['end3'])\n",
    "df['total_exp'] = (df['role1_exp']+df['role2_exp']+df['role3_exp'])//365\n",
    "\n",
    "\n",
    "df['exp_yrs'] = pd.cut(df['total_exp'], bins=[0,1,3,5,10,15,100], \n",
    "                       labels=['00-01 yr','01-03 yr','03-05 yr','05-10 yr','10-15 yr','15+ yr'],\n",
    "                       include_lowest=True, right=False)\n",
    "\n",
    "df['num_jobs'] = np.sum(df[['role1_exp','role2_exp','role3_exp']].values>0, axis=1)\n",
    "\n",
    "df['job21_gap'] = vec_datestr_diff(df['end2'], df['start1'])\n",
    "df['job32_gap'] = vec_datestr_diff(df['end3'], df['start2'])\n",
    "df['job_gap_months'] = (df['job21_gap']+df['job32_gap'])//30\n",
    "df['job_gap_cat'] = df['job_gap_months'].apply(lambda x: '<2 months' if x<2 else '>=2 months')\n",
    "\n",
    "df.head()"
   ]
  },
  {
   "cell_type": "code",
   "execution_count": null,
   "id": "8d031aa1",
   "metadata": {},
   "outputs": [],
   "source": [
    "df.groupby(['exp_yrs','num_jobs']).agg({'applicant_id':'count'}).reset_index().\\\n",
    "rename(columns={'applicant_id':'Number of applications', 'exp_yrs':'Experience', 'num_jobs':'Number of jobs'}).\\\n",
    "pivot_table(index=['Number of jobs'], columns=['Experience'], aggfunc=sum, margins=True, margins_name='Total')\n"
   ]
  },
  {
   "cell_type": "markdown",
   "id": "8f478f6f",
   "metadata": {},
   "source": [
    "The table above shows the distribution of application profiles. 3280 applications demonstrate no job history and have less than 1 year of experience. Likewise 10,320 demonstrate some job history but less than 3 years of work experience. The purpose of setting such a distribution was to ensure that different applicant profiles are well represented in our dataset.\n",
    "\n",
    "Similarly, with sensitive features like gender and ethnicity, we have tried to achieve a rather uniform distribution. The same is shown below."
   ]
  },
  {
   "cell_type": "code",
   "execution_count": null,
   "id": "e9fd3d76",
   "metadata": {},
   "outputs": [],
   "source": [
    "df.groupby(['gender','ethnicity']).agg({'applicant_id':'count'}).reset_index().\\\n",
    "rename(columns={'applicant_id':'Number of applications', 'gender':'Gender', 'ethnicity':'Ethnicity'}).\\\n",
    "pivot_table(index=['Gender'], columns=['Ethnicity'], aggfunc=sum, margins=True, margins_name='Total')\n"
   ]
  },
  {
   "cell_type": "markdown",
   "id": "985c1318",
   "metadata": {},
   "source": [
    "Finally, we look at the distribution of degrees and GPA. It's clear from the graphs below that degrees are distributed uniformly, while GPA is built from a normal distribution, clipped at a GPA of 4.0. The details can be found in the datagenerator file that handles generation of the synthetic dataset."
   ]
  },
  {
   "cell_type": "code",
   "execution_count": null,
   "id": "e38c2cec",
   "metadata": {},
   "outputs": [],
   "source": [
    "# create bar plot for degree in percentage\n",
    "degree = ['Bachelor\\'s', 'Master\\'s', 'PhD']\n",
    "\n",
    "temp_df_degree = df.groupby(by='degree').size()/df.groupby(by='degree').size().sum()\n",
    "temp_df_degree.plot(kind='bar')\n",
    "\n",
    "# rotate the x-axis labels\n",
    "plt.xticks(rotation=0)\n",
    "\n",
    "# add title and labels\n",
    "plt.title('Distribution of Degrees')\n",
    "plt.xlabel('')\n",
    "plt.ylabel('Percentage of Samples')\n",
    "\n",
    "plt.gca().yaxis.set_major_formatter(PercentFormatter(1, 0))\n",
    "\n",
    "# save as png\n",
    "plt.savefig('plots/degree-dist.png', dpi=300)\n"
   ]
  },
  {
   "cell_type": "code",
   "execution_count": null,
   "id": "e6a98bdf",
   "metadata": {},
   "outputs": [],
   "source": [
    "# show the distribution of GPA density in a histogram, remove grid and add n_bins\n",
    "plt.hist(df['gpa'], weights=np.ones(len(df['gpa'])) / len(df['gpa']), \n",
    "         color='tab:orange', alpha=0.65, edgecolor='tab:orange', bins=20)\n",
    "\n",
    "# add title and labels\n",
    "plt.title('Distribution of GPA')\n",
    "plt.xlabel('GPA')\n",
    "plt.ylabel('Percentage of samples')\n",
    "plt.gca().yaxis.set_major_formatter(PercentFormatter(1))\n",
    "\n",
    "# save as png\n",
    "plt.savefig('plots/gpa-dist.png', dpi=300)"
   ]
  },
  {
   "cell_type": "markdown",
   "id": "6c0955f7",
   "metadata": {},
   "source": [
    "## Analysis\n",
    "\n",
    "Now that we have completed describing different features of the synthetic dataset, and drawn some insights on the distributions, we'll move on to analyzing the resume scorer and candidate evaluator models. Bearing that each distinct sample is queried 10 times, we can find a mean score and mean selection rate for each of the 4000 distinct applicants. The dataframe `dedup_df` enables such an analysis scheme."
   ]
  },
  {
   "cell_type": "code",
   "execution_count": null,
   "id": "cae46359",
   "metadata": {},
   "outputs": [],
   "source": [
    "df['mean_selection_rate'] = df.groupby(['group_idx'])['prediction'].transform('mean')\n",
    "df['std_selection_rate'] = df.groupby(['group_idx'])['prediction'].transform(np.std)\n",
    "df['mean_resume_score'] = df.groupby(['group_idx'])['resume_score'].transform('mean')\n",
    "df['std_resume_score'] = df.groupby(['group_idx'])['resume_score'].transform(np.std)\n",
    "\n",
    "\n",
    "dedup_df = df[['group_idx','jobref_id','school_name','gpa','degree','location','gender',\n",
    "               'veteran_status','work_auth','disability','ethnicity','exp_yrs', 'num_jobs',\n",
    "               'job_gap_months','job_gap_cat','mean_selection_rate','std_selection_rate',\n",
    "               'mean_resume_score','std_resume_score']].drop_duplicates()\n",
    "\n",
    "score_bins = [0,1,2,3,4,5,6,7,8,9,10]\n",
    "dedup_df['mean_resume_score_bins'] = pd.cut(dedup_df['mean_resume_score'], bins=score_bins,\n",
    "                                            right=False, include_lowest=True)\n",
    "\n",
    "gpa_bins = [0,3.0,4.0001]\n",
    "dedup_df['gpa_bins'] = pd.cut(dedup_df['gpa'], bins=gpa_bins, right=False, include_lowest=True)\n",
    "dedup_df.head()"
   ]
  },
  {
   "cell_type": "markdown",
   "id": "af3dd8bd",
   "metadata": {},
   "source": [
    "### Gender based discrepancies\n"
   ]
  },
  {
   "cell_type": "markdown",
   "id": "ccbdf5ce",
   "metadata": {},
   "source": [
    "For our first insight, we saw a marked bias in the selection of female candidates and individuals who refused to divulge gender information either because they're non-binary or other personal reasons. What stands out is that the resume scores are similar, but the selection rate are vastly higher for male candidates. This is also beyond any reasonable bounds such as the $\\frac{4}{5}^{\\text{th}}$ rule. \n",
    "\n",
    "The table below highlights the same and shows that controlling for a similar sample size, while the mean resume scores, their standard deviations-- and by extension the standard errors, since group size is fixed at 10-- are very similar, the candidate evaluator model's selection rate is vastly different. The mean and median selection rates highlight this difference-- where individuals identifying as female have a 38% lower selection rate when compared to men. For those who deny sharing gender information or identify as non-binary the selection rate is 0%."
   ]
  },
  {
   "cell_type": "code",
   "execution_count": null,
   "id": "8259b24e",
   "metadata": {},
   "outputs": [],
   "source": [
    "gender_group_df = dedup_df.groupby(['gender']).agg({'group_idx':['count'],\n",
    "                                                    'mean_resume_score':['mean'],\n",
    "                                                    'std_resume_score':['mean'],\n",
    "                                                    'mean_selection_rate':['mean',percentile(50)]})\n",
    "\n",
    "rename_map = {('group_idx', 'count'): 'Number of applicants',\n",
    "              ('mean_resume_score', 'mean'): 'Mean resume score',\n",
    "              ('std_resume_score', 'mean'): 'Std dev resume score',\n",
    "              ('mean_selection_rate', 'mean'): 'Mean selection rate',\n",
    "              ('mean_selection_rate', 'p50'): 'Median selection rate'}\n",
    "\n",
    "gender_group_df.columns = [rename_map[tuple(col)] for col in gender_group_df.columns]\n",
    "gender_group_df"
   ]
  },
  {
   "cell_type": "markdown",
   "id": "e471cd11",
   "metadata": {},
   "source": [
    "The above analysis can also be viewed through the lens of fairness metrics covered in class. \n",
    "\n",
    "Let's consider the statistical parity difference (SPD)-- defined as the difference between the proportion of positive outcomes for the majority and minority groups. Mathematically,\n",
    "\n",
    "$$\\text{SPD} = \\mathbb{P}(\\hat{Y} = 1|A = \\text{minority}) - \\mathbb{P}(\\hat{Y} = 1|A = \\text{majority})$$\n",
    "\n",
    "Setting the predicted outcome $\\left(\\hat{Y}\\right)$, in the above equation, to be output of the candidate evaluator model we can see that $\\mathbb{P}(\\hat{Y} = 1|A = \\text{minority})  = \\mathbb{E}(\\hat{Y}|A = \\text{minority})$, since our outcome is binary. Thus, substituting the mean selection rate in the above equation, we find that: \n",
    "\n",
    "$$\\begin{align*}\n",
    "\\text{SPD}_{\\text{f-m}} &= \\mathbb{E}(\\hat{Y}|\\text{gender} = \\text{female}) - \\mathbb{E}(\\hat{Y}|\\text{gender} = \\text{male}) \\\\\n",
    "&= 0.312 - 0.492 = -0.18\n",
    "\\end{align*}$$\n",
    "\n",
    "Likewise, for non-binary individuals, we see:\n",
    "$$\\begin{align*}\n",
    "\\text{SPD}_{\\text{na-m}} &= \\mathbb{E}(\\hat{Y}|\\text{gender} = \\text{N/A}) - \\mathbb{E}(\\hat{Y}|\\text{gender} = \\text{male}) \\\\\n",
    "&= 0.00 - 0.492 = -0.492\n",
    "\\end{align*}$$\n",
    "\n",
    "<br><br>\n",
    "Disparate impact is very similar to SPD, except that it is a ratio of the above proportions as opposed to a difference. Mathematically, \n",
    "$$\\text{DI} = \\dfrac{\\mathbb{P}(\\hat{Y} = 1|A = \\text{minority})}{\\mathbb{P}(\\hat{Y} = 1|A = \\text{majority})}$$\n",
    "\n",
    "As before, since our model is binary $\\mathbb{P}(\\hat Y = 1 | A = a) = \\mathbb{E}(\\hat Y | A = a)$, we modify the above equation with mean selection rate arrived at above, finding:\n",
    "\n",
    "$$\n",
    "\\begin{align*}\n",
    "\\text{DI}_{\\text{f/m}} &= \\dfrac{\\mathbb{E}(\\hat{Y}|\\text{gender} = \\text{female})}{\\mathbb{E}(\\hat{Y}|\\text{gender} = \\text{male})} \\\\\n",
    "&= \\dfrac{0.312}{0.492} = 0.634\n",
    "\\end{align*}\n",
    "$$\n",
    "\n",
    "Similarly, for non-binary individuals:\n",
    "\n",
    "$$\n",
    "\\begin{align*}\n",
    "\\text{DI}_{\\text{na/m}} &= \\dfrac{\\mathbb{E}(\\hat{Y}|\\text{gender} = \\text{N/A})}{\\mathbb{E}(\\hat{Y}|\\text{gender} = \\text{male})} \\\\\n",
    "&= \\dfrac{0.00}{0.492} = 0.0\n",
    "\\end{align*}\n",
    "$$\n"
   ]
  },
  {
   "cell_type": "markdown",
   "id": "234dcc99",
   "metadata": {},
   "source": [
    "### Job gap based discrepancies\n",
    "\n",
    "Just as we saw with gender, we can identify a significant bias in the selection of candidates with gaps in their work history. What stands out is that while the resume scores are similar, the selection rate for candidates who have a gap of 2 or more months is 0%. \n",
    "\n",
    "The table below highlights the same and shows that even with a sizable sample, while the mean resume scores, their standard deviations-- and by extension the standard errors-- are very similar, the candidate evaluator model's selection rate is approximately 30% on avg, while the same for individuals with as little as a 2 month gap in their work history it is 0%."
   ]
  },
  {
   "cell_type": "code",
   "execution_count": null,
   "id": "667078a9",
   "metadata": {},
   "outputs": [],
   "source": [
    "job_gap_months_group_df = dedup_df.groupby(['job_gap_cat']).agg({'group_idx':['count'],\n",
    "                                                    'mean_resume_score':['mean'],\n",
    "                                                    'std_resume_score':['mean'],\n",
    "                                                    'mean_selection_rate':['mean',percentile(50)]})\n",
    "\n",
    "rename_map = {('group_idx', 'count'): 'Number of applicants',\n",
    "              ('mean_resume_score', 'mean'): 'Mean resume score',\n",
    "              ('std_resume_score', 'mean'): 'Std dev resume score',\n",
    "              ('mean_selection_rate', 'mean'): 'Mean selection rate',\n",
    "              ('mean_selection_rate', 'p50'): 'Median selection rate'}\n",
    "\n",
    "job_gap_months_group_df.columns = [rename_map[tuple(col)] for col in job_gap_months_group_df.columns]\n",
    "job_gap_months_group_df"
   ]
  },
  {
   "cell_type": "markdown",
   "id": "c46c5c8b",
   "metadata": {},
   "source": [
    "Expressing the same using some of the fairness metrics we have seen above, we can say that:\n",
    "\n",
    "$$\\begin{align*}\n",
    "\\text{SPD}_{\\text{gap}} &= \\mathbb{E}(\\hat{Y}|\\text{gap} \\text{>=2 months}) - \\mathbb{E}(\\hat{Y}|\\text{gap} \\text{<2 months}) \\\\\n",
    "&= 0.00 - 0.321 = -0.321\n",
    "\\end{align*}$$\n",
    "\n",
    "Similarly with disparate impact,\n",
    "\n",
    "$$\n",
    "\\begin{align*}\n",
    "\\text{DI}_{\\text{gap}} &= \\dfrac{\\mathbb{E}(\\hat{Y}|\\text{gap} \\text{>=2 months})}{\\mathbb{E}(\\hat{Y}|\\text{gap} \\text{<2 months})} \\\\\n",
    "&= \\dfrac{0.00}{0.321} = 0.0\n",
    "\\end{align*}\n",
    "$$"
   ]
  },
  {
   "cell_type": "markdown",
   "id": "0a75258e",
   "metadata": {},
   "source": [
    "### Resume score bins based discrepancy"
   ]
  },
  {
   "cell_type": "code",
   "execution_count": null,
   "id": "30b2db03",
   "metadata": {},
   "outputs": [],
   "source": [
    "mean_resume_score_bins_group_df = dedup_df[(dedup_df['job_gap_months']<2)&\n",
    "                                           (dedup_df['gender']!='N/A')].groupby(['mean_resume_score_bins']).\\\n",
    "agg({'group_idx':['count'],'mean_selection_rate':['mean'],'std_selection_rate':['mean']})\n",
    "\n",
    "rename_map = {('group_idx', 'count'): 'Number of applicants',\n",
    "              ('mean_selection_rate', 'mean'): 'Mean selection rate',\n",
    "              ('std_selection_rate', 'mean'): 'Std dev selection rate'}\n",
    "\n",
    "mean_resume_score_bins_group_df.columns = [rename_map[tuple(col)] for col in mean_resume_score_bins_group_df.columns]\n",
    "mean_resume_score_bins_group_df"
   ]
  },
  {
   "cell_type": "code",
   "execution_count": null,
   "id": "f827a9c1",
   "metadata": {},
   "outputs": [],
   "source": [
    "fig, ax = plt.subplots()\n",
    "\n",
    "resume_score_df = dedup_df[(dedup_df['job_gap_months']<2)&\n",
    "                           (dedup_df['gender']!='N/A')]\n",
    "\n",
    "ax.scatter(x = resume_score_df['mean_resume_score'], y = resume_score_df['mean_selection_rate'], \n",
    "           s=12, alpha=0.25, c='tab:blue', marker='o')\n",
    "plt.title('Resume scores vs. Selection rate',fontsize=11)\n",
    "ax.set_xlabel('Resume scores',fontsize=10,labelpad=8)\n",
    "ax.set_ylabel('Selection rate',fontsize=10,labelpad=8)\n",
    "\n",
    "# setup tick values, tick labels, and axis labels\n",
    "ax.tick_params(axis='both', which='major',labelsize=9)\n",
    "\n",
    "# build trendline\n",
    "m,c = np.polyfit(resume_score_df['mean_resume_score'], resume_score_df['mean_selection_rate'], deg=1)\n",
    "xseq = np.linspace(0, 10, num=10000)\n",
    "ax.plot(xseq, m*xseq+c, color='k', linestyle='dashed', alpha=0.7)\n",
    "ax.spines['top'].set_visible(False)\n",
    "ax.spines['right'].set_visible(False)\n",
    "plt.show()"
   ]
  },
  {
   "cell_type": "markdown",
   "id": "0503026d",
   "metadata": {},
   "source": [
    "## Appendix"
   ]
  },
  {
   "cell_type": "markdown",
   "id": "3c071d05",
   "metadata": {},
   "source": [
    "### Ethnicity based discrepancies\n"
   ]
  },
  {
   "cell_type": "code",
   "execution_count": null,
   "id": "02d9df7c",
   "metadata": {},
   "outputs": [],
   "source": [
    "ethnicity_group_df = dedup_df[(dedup_df['gender']=='M')&\n",
    "                              (dedup_df['job_gap_months']<2)].groupby(['ethnicity']).\\\n",
    "agg({'group_idx':['count'],'mean_resume_score':['mean'],'std_resume_score':['mean'],\n",
    "     'mean_selection_rate':['mean',percentile(50)],'std_selection_rate':['mean']})\n",
    "\n",
    "rename_map = {('group_idx', 'count'): 'Number of applicants',\n",
    "              ('mean_resume_score', 'mean'): 'Mean resume score',\n",
    "              ('std_resume_score', 'mean'): 'Std dev resume score',\n",
    "              ('mean_selection_rate', 'mean'): 'Mean selection rate',\n",
    "              ('mean_selection_rate', 'p50'): 'Median selection rate',\n",
    "              ('std_selection_rate', 'mean'): 'Std dev selection rate'}\n",
    "\n",
    "ethnicity_group_df.columns = [rename_map[tuple(col)] for col in ethnicity_group_df.columns]\n",
    "ethnicity_group_df"
   ]
  },
  {
   "cell_type": "markdown",
   "id": "32c018c6",
   "metadata": {},
   "source": [
    "### Work auth based discrepancies"
   ]
  },
  {
   "cell_type": "code",
   "execution_count": null,
   "id": "12a492ad",
   "metadata": {},
   "outputs": [],
   "source": [
    "work_auth_group_df = dedup_df[(dedup_df['gender']=='M')&\n",
    "                              (dedup_df['job_gap_months']<2)].groupby(['work_auth']).\\\n",
    "agg({'group_idx':['count'],'mean_resume_score':['mean'],'std_resume_score':['mean'],\n",
    "     'mean_selection_rate':['mean',percentile(50)],'std_selection_rate':['mean']})\n",
    "\n",
    "rename_map = {('group_idx', 'count'): 'Number of applicants',\n",
    "              ('mean_resume_score', 'mean'): 'Mean resume score',\n",
    "              ('std_resume_score', 'mean'): 'Std dev resume score',\n",
    "              ('mean_selection_rate', 'mean'): 'Mean selection rate',\n",
    "              ('mean_selection_rate', 'p50'): 'Median selection rate',\n",
    "              ('std_selection_rate', 'mean'): 'Std dev selection rate'}\n",
    "\n",
    "work_auth_group_df.columns = [rename_map[tuple(col)] for col in work_auth_group_df.columns]\n",
    "work_auth_group_df"
   ]
  },
  {
   "cell_type": "markdown",
   "id": "4e1fd2e4",
   "metadata": {},
   "source": [
    "### Disability based discrepancies\n"
   ]
  },
  {
   "cell_type": "code",
   "execution_count": null,
   "id": "a3fc752a",
   "metadata": {},
   "outputs": [],
   "source": [
    "disability_group_df = dedup_df[(dedup_df['gender']=='M')&\n",
    "                              (dedup_df['job_gap_months']<2)].groupby(['disability']).\\\n",
    "agg({'group_idx':['count'],'mean_resume_score':['mean'],'std_resume_score':['mean'],\n",
    "     'mean_selection_rate':['mean',percentile(50)],'std_selection_rate':['mean']})\n",
    "\n",
    "rename_map = {('group_idx', 'count'): 'Number of applicants',\n",
    "              ('mean_resume_score', 'mean'): 'Mean resume score',\n",
    "              ('std_resume_score', 'mean'): 'Std dev resume score',\n",
    "              ('mean_selection_rate', 'mean'): 'Mean selection rate',\n",
    "              ('mean_selection_rate', 'p50'): 'Median selection rate',\n",
    "              ('std_selection_rate', 'mean'): 'Std dev selection rate'}\n",
    "\n",
    "disability_group_df.columns = [rename_map[tuple(col)] for col in disability_group_df.columns]\n",
    "disability_group_df"
   ]
  },
  {
   "cell_type": "markdown",
   "id": "2686b77c",
   "metadata": {},
   "source": [
    "### Veteran status based discrepancies\n"
   ]
  },
  {
   "cell_type": "code",
   "execution_count": null,
   "id": "cd89d99c",
   "metadata": {},
   "outputs": [],
   "source": [
    "veteran_status_group_df = dedup_df[(dedup_df['gender']=='M')&\n",
    "                              (dedup_df['job_gap_months']<2)].groupby(['veteran_status']).\\\n",
    "agg({'group_idx':['count'],'mean_resume_score':['mean'],'std_resume_score':['mean'],\n",
    "     'mean_selection_rate':['mean',percentile(50)],'std_selection_rate':['mean']})\n",
    "\n",
    "rename_map = {('group_idx', 'count'): 'Number of applicants',\n",
    "              ('mean_resume_score', 'mean'): 'Mean resume score',\n",
    "              ('std_resume_score', 'mean'): 'Std dev resume score',\n",
    "              ('mean_selection_rate', 'mean'): 'Mean selection rate',\n",
    "              ('mean_selection_rate', 'p50'): 'Median selection rate',\n",
    "              ('std_selection_rate', 'mean'): 'Std dev selection rate'}\n",
    "\n",
    "veteran_status_group_df.columns = [rename_map[tuple(col)] for col in veteran_status_group_df.columns]\n",
    "veteran_status_group_df"
   ]
  },
  {
   "cell_type": "markdown",
   "id": "a61e17ba",
   "metadata": {},
   "source": [
    "### Degree level based discrepancies\n"
   ]
  },
  {
   "cell_type": "code",
   "execution_count": null,
   "id": "0b027d88",
   "metadata": {},
   "outputs": [],
   "source": [
    "degree_group_df = dedup_df[(dedup_df['gender']=='M')&\n",
    "                              (dedup_df['job_gap_months']<2)].groupby(['degree']).\\\n",
    "agg({'group_idx':['count'],'mean_resume_score':['mean'],'std_resume_score':['mean'],\n",
    "     'mean_selection_rate':['mean',percentile(50)],'std_selection_rate':['mean']})\n",
    "\n",
    "rename_map = {('group_idx', 'count'): 'Number of applicants',\n",
    "              ('mean_resume_score', 'mean'): 'Mean resume score',\n",
    "              ('std_resume_score', 'mean'): 'Std dev resume score',\n",
    "              ('mean_selection_rate', 'mean'): 'Mean selection rate',\n",
    "              ('mean_selection_rate', 'p50'): 'Median selection rate',\n",
    "              ('std_selection_rate', 'mean'): 'Std dev selection rate'}\n",
    "\n",
    "degree_group_df.columns = [rename_map[tuple(col)] for col in degree_group_df.columns]\n",
    "degree_group_df"
   ]
  },
  {
   "cell_type": "markdown",
   "id": "b53310fd",
   "metadata": {},
   "source": [
    "### GPA bins based discrepancy"
   ]
  },
  {
   "cell_type": "code",
   "execution_count": null,
   "id": "dade7f62",
   "metadata": {},
   "outputs": [],
   "source": [
    "gpa_bins_group_df = dedup_df[(dedup_df['gender']=='M')&\n",
    "                             (dedup_df['job_gap_months']<2)].groupby(['gpa_bins']).\\\n",
    "agg({'group_idx':['count'],'mean_resume_score':['mean'],'std_resume_score':['mean'],\n",
    "     'mean_selection_rate':['mean',percentile(50)],'std_selection_rate':['mean']})\n",
    "\n",
    "rename_map = {('group_idx', 'count'): 'Number of applicants',\n",
    "              ('mean_resume_score', 'mean'): 'Mean resume score',\n",
    "              ('std_resume_score', 'mean'): 'Std dev resume score',\n",
    "              ('mean_selection_rate', 'mean'): 'Mean selection rate',\n",
    "              ('mean_selection_rate', 'p50'): 'Median selection rate',\n",
    "              ('std_selection_rate', 'mean'): 'Std dev selection rate'}\n",
    "\n",
    "gpa_bins_group_df.columns = [rename_map[tuple(col)] for col in gpa_bins_group_df.columns]\n",
    "gpa_bins_group_df"
   ]
  }
 ],
 "metadata": {
  "kernelspec": {
   "display_name": "Python 3 (ipykernel)",
   "language": "python",
   "name": "python3"
  },
  "language_info": {
   "codemirror_mode": {
    "name": "ipython",
    "version": 3
   },
   "file_extension": ".py",
   "mimetype": "text/x-python",
   "name": "python",
   "nbconvert_exporter": "python",
   "pygments_lexer": "ipython3",
   "version": "3.10.12"
  }
 },
 "nbformat": 4,
 "nbformat_minor": 5
}
